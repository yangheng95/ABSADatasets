{
  "nbformat": 4,
  "nbformat_minor": 0,
  "metadata": {
    "colab": {
      "name": "Copie de DeepLift BERT.ipynb",
      "provenance": [],
      "collapsed_sections": [],
      "toc_visible": true,
      "include_colab_link": true
    },
    "kernelspec": {
      "name": "python3",
      "display_name": "Python 3"
    },
    "widgets": {
      "application/vnd.jupyter.widget-state+json": {
        "4aa8b52c20b14472901e0bfc1adcee69": {
          "model_module": "@jupyter-widgets/controls",
          "model_name": "HBoxModel",
          "state": {
            "_view_name": "HBoxView",
            "_dom_classes": [],
            "_model_name": "HBoxModel",
            "_view_module": "@jupyter-widgets/controls",
            "_model_module_version": "1.5.0",
            "_view_count": null,
            "_view_module_version": "1.5.0",
            "box_style": "",
            "layout": "IPY_MODEL_c4f4548b289d47519536ee3c9b8ceac9",
            "_model_module": "@jupyter-widgets/controls",
            "children": [
              "IPY_MODEL_2a056ec4e677483b986748df3719dc60",
              "IPY_MODEL_3efb039982a04eb2b42ae454df7e8328"
            ]
          },
          "model_module_version": "1.5.0"
        },
        "c4f4548b289d47519536ee3c9b8ceac9": {
          "model_module": "@jupyter-widgets/base",
          "model_name": "LayoutModel",
          "state": {
            "_view_name": "LayoutView",
            "grid_template_rows": null,
            "right": null,
            "justify_content": null,
            "_view_module": "@jupyter-widgets/base",
            "overflow": null,
            "_model_module_version": "1.2.0",
            "_view_count": null,
            "flex_flow": null,
            "width": null,
            "min_width": null,
            "border": null,
            "align_items": null,
            "bottom": null,
            "_model_module": "@jupyter-widgets/base",
            "top": null,
            "grid_column": null,
            "overflow_y": null,
            "overflow_x": null,
            "grid_auto_flow": null,
            "grid_area": null,
            "grid_template_columns": null,
            "flex": null,
            "_model_name": "LayoutModel",
            "justify_items": null,
            "grid_row": null,
            "max_height": null,
            "align_content": null,
            "visibility": null,
            "align_self": null,
            "height": null,
            "min_height": null,
            "padding": null,
            "grid_auto_rows": null,
            "grid_gap": null,
            "max_width": null,
            "order": null,
            "_view_module_version": "1.2.0",
            "grid_template_areas": null,
            "object_position": null,
            "object_fit": null,
            "grid_auto_columns": null,
            "margin": null,
            "display": null,
            "left": null
          },
          "model_module_version": "1.2.0"
        },
        "2a056ec4e677483b986748df3719dc60": {
          "model_module": "@jupyter-widgets/controls",
          "model_name": "FloatProgressModel",
          "state": {
            "_view_name": "ProgressView",
            "style": "IPY_MODEL_7feb1d8131884fbdbf8661a1a2fd87c7",
            "_dom_classes": [],
            "description": "Downloading: 100%",
            "_model_name": "FloatProgressModel",
            "bar_style": "success",
            "max": 511,
            "_view_module": "@jupyter-widgets/controls",
            "_model_module_version": "1.5.0",
            "value": 511,
            "_view_count": null,
            "_view_module_version": "1.5.0",
            "orientation": "horizontal",
            "min": 0,
            "description_tooltip": null,
            "_model_module": "@jupyter-widgets/controls",
            "layout": "IPY_MODEL_aedde6207d2a47ee8934d39385fb22f3"
          },
          "model_module_version": "1.5.0"
        },
        "3efb039982a04eb2b42ae454df7e8328": {
          "model_module": "@jupyter-widgets/controls",
          "model_name": "HTMLModel",
          "state": {
            "_view_name": "HTMLView",
            "style": "IPY_MODEL_edfb0575fe444490ba35c050fd2c0e16",
            "_dom_classes": [],
            "description": "",
            "_model_name": "HTMLModel",
            "placeholder": "​",
            "_view_module": "@jupyter-widgets/controls",
            "_model_module_version": "1.5.0",
            "value": " 511/511 [00:10&lt;00:00, 49.6B/s]",
            "_view_count": null,
            "_view_module_version": "1.5.0",
            "description_tooltip": null,
            "_model_module": "@jupyter-widgets/controls",
            "layout": "IPY_MODEL_4551fe71876c405caa5c0a1d44e28cf6"
          },
          "model_module_version": "1.5.0"
        },
        "7feb1d8131884fbdbf8661a1a2fd87c7": {
          "model_module": "@jupyter-widgets/controls",
          "model_name": "ProgressStyleModel",
          "state": {
            "_view_name": "StyleView",
            "_model_name": "ProgressStyleModel",
            "description_width": "initial",
            "_view_module": "@jupyter-widgets/base",
            "_model_module_version": "1.5.0",
            "_view_count": null,
            "_view_module_version": "1.2.0",
            "bar_color": null,
            "_model_module": "@jupyter-widgets/controls"
          },
          "model_module_version": "1.5.0"
        },
        "aedde6207d2a47ee8934d39385fb22f3": {
          "model_module": "@jupyter-widgets/base",
          "model_name": "LayoutModel",
          "state": {
            "_view_name": "LayoutView",
            "grid_template_rows": null,
            "right": null,
            "justify_content": null,
            "_view_module": "@jupyter-widgets/base",
            "overflow": null,
            "_model_module_version": "1.2.0",
            "_view_count": null,
            "flex_flow": null,
            "width": null,
            "min_width": null,
            "border": null,
            "align_items": null,
            "bottom": null,
            "_model_module": "@jupyter-widgets/base",
            "top": null,
            "grid_column": null,
            "overflow_y": null,
            "overflow_x": null,
            "grid_auto_flow": null,
            "grid_area": null,
            "grid_template_columns": null,
            "flex": null,
            "_model_name": "LayoutModel",
            "justify_items": null,
            "grid_row": null,
            "max_height": null,
            "align_content": null,
            "visibility": null,
            "align_self": null,
            "height": null,
            "min_height": null,
            "padding": null,
            "grid_auto_rows": null,
            "grid_gap": null,
            "max_width": null,
            "order": null,
            "_view_module_version": "1.2.0",
            "grid_template_areas": null,
            "object_position": null,
            "object_fit": null,
            "grid_auto_columns": null,
            "margin": null,
            "display": null,
            "left": null
          },
          "model_module_version": "1.2.0"
        },
        "edfb0575fe444490ba35c050fd2c0e16": {
          "model_module": "@jupyter-widgets/controls",
          "model_name": "DescriptionStyleModel",
          "state": {
            "_view_name": "StyleView",
            "_model_name": "DescriptionStyleModel",
            "description_width": "",
            "_view_module": "@jupyter-widgets/base",
            "_model_module_version": "1.5.0",
            "_view_count": null,
            "_view_module_version": "1.2.0",
            "_model_module": "@jupyter-widgets/controls"
          },
          "model_module_version": "1.5.0"
        },
        "4551fe71876c405caa5c0a1d44e28cf6": {
          "model_module": "@jupyter-widgets/base",
          "model_name": "LayoutModel",
          "state": {
            "_view_name": "LayoutView",
            "grid_template_rows": null,
            "right": null,
            "justify_content": null,
            "_view_module": "@jupyter-widgets/base",
            "overflow": null,
            "_model_module_version": "1.2.0",
            "_view_count": null,
            "flex_flow": null,
            "width": null,
            "min_width": null,
            "border": null,
            "align_items": null,
            "bottom": null,
            "_model_module": "@jupyter-widgets/base",
            "top": null,
            "grid_column": null,
            "overflow_y": null,
            "overflow_x": null,
            "grid_auto_flow": null,
            "grid_area": null,
            "grid_template_columns": null,
            "flex": null,
            "_model_name": "LayoutModel",
            "justify_items": null,
            "grid_row": null,
            "max_height": null,
            "align_content": null,
            "visibility": null,
            "align_self": null,
            "height": null,
            "min_height": null,
            "padding": null,
            "grid_auto_rows": null,
            "grid_gap": null,
            "max_width": null,
            "order": null,
            "_view_module_version": "1.2.0",
            "grid_template_areas": null,
            "object_position": null,
            "object_fit": null,
            "grid_auto_columns": null,
            "margin": null,
            "display": null,
            "left": null
          },
          "model_module_version": "1.2.0"
        },
        "0384412bcf5349b0bf917cb779de91a0": {
          "model_module": "@jupyter-widgets/controls",
          "model_name": "HBoxModel",
          "state": {
            "_view_name": "HBoxView",
            "_dom_classes": [],
            "_model_name": "HBoxModel",
            "_view_module": "@jupyter-widgets/controls",
            "_model_module_version": "1.5.0",
            "_view_count": null,
            "_view_module_version": "1.5.0",
            "box_style": "",
            "layout": "IPY_MODEL_635d1aeb81f6401cbdb573b9c8f3bbc6",
            "_model_module": "@jupyter-widgets/controls",
            "children": [
              "IPY_MODEL_ba6ec000ec284d6789cda12ee5e23a64",
              "IPY_MODEL_0feda1f2f4d143af8dbfdb99a5c17ac7"
            ]
          },
          "model_module_version": "1.5.0"
        },
        "635d1aeb81f6401cbdb573b9c8f3bbc6": {
          "model_module": "@jupyter-widgets/base",
          "model_name": "LayoutModel",
          "state": {
            "_view_name": "LayoutView",
            "grid_template_rows": null,
            "right": null,
            "justify_content": null,
            "_view_module": "@jupyter-widgets/base",
            "overflow": null,
            "_model_module_version": "1.2.0",
            "_view_count": null,
            "flex_flow": null,
            "width": null,
            "min_width": null,
            "border": null,
            "align_items": null,
            "bottom": null,
            "_model_module": "@jupyter-widgets/base",
            "top": null,
            "grid_column": null,
            "overflow_y": null,
            "overflow_x": null,
            "grid_auto_flow": null,
            "grid_area": null,
            "grid_template_columns": null,
            "flex": null,
            "_model_name": "LayoutModel",
            "justify_items": null,
            "grid_row": null,
            "max_height": null,
            "align_content": null,
            "visibility": null,
            "align_self": null,
            "height": null,
            "min_height": null,
            "padding": null,
            "grid_auto_rows": null,
            "grid_gap": null,
            "max_width": null,
            "order": null,
            "_view_module_version": "1.2.0",
            "grid_template_areas": null,
            "object_position": null,
            "object_fit": null,
            "grid_auto_columns": null,
            "margin": null,
            "display": null,
            "left": null
          },
          "model_module_version": "1.2.0"
        },
        "ba6ec000ec284d6789cda12ee5e23a64": {
          "model_module": "@jupyter-widgets/controls",
          "model_name": "FloatProgressModel",
          "state": {
            "_view_name": "ProgressView",
            "style": "IPY_MODEL_5aa4ebee1f5348c2ad430f0913bf9d04",
            "_dom_classes": [],
            "description": "Downloading: 100%",
            "_model_name": "FloatProgressModel",
            "bar_style": "success",
            "max": 437985387,
            "_view_module": "@jupyter-widgets/controls",
            "_model_module_version": "1.5.0",
            "value": 437985387,
            "_view_count": null,
            "_view_module_version": "1.5.0",
            "orientation": "horizontal",
            "min": 0,
            "description_tooltip": null,
            "_model_module": "@jupyter-widgets/controls",
            "layout": "IPY_MODEL_0e0e447c8b114876b96823299075b575"
          },
          "model_module_version": "1.5.0"
        },
        "0feda1f2f4d143af8dbfdb99a5c17ac7": {
          "model_module": "@jupyter-widgets/controls",
          "model_name": "HTMLModel",
          "state": {
            "_view_name": "HTMLView",
            "style": "IPY_MODEL_877d5386b47141d883897f835bf4073c",
            "_dom_classes": [],
            "description": "",
            "_model_name": "HTMLModel",
            "placeholder": "​",
            "_view_module": "@jupyter-widgets/controls",
            "_model_module_version": "1.5.0",
            "value": " 438M/438M [00:09&lt;00:00, 45.0MB/s]",
            "_view_count": null,
            "_view_module_version": "1.5.0",
            "description_tooltip": null,
            "_model_module": "@jupyter-widgets/controls",
            "layout": "IPY_MODEL_53db8ff466304f32b29b544b480062f1"
          },
          "model_module_version": "1.5.0"
        },
        "5aa4ebee1f5348c2ad430f0913bf9d04": {
          "model_module": "@jupyter-widgets/controls",
          "model_name": "ProgressStyleModel",
          "state": {
            "_view_name": "StyleView",
            "_model_name": "ProgressStyleModel",
            "description_width": "initial",
            "_view_module": "@jupyter-widgets/base",
            "_model_module_version": "1.5.0",
            "_view_count": null,
            "_view_module_version": "1.2.0",
            "bar_color": null,
            "_model_module": "@jupyter-widgets/controls"
          },
          "model_module_version": "1.5.0"
        },
        "0e0e447c8b114876b96823299075b575": {
          "model_module": "@jupyter-widgets/base",
          "model_name": "LayoutModel",
          "state": {
            "_view_name": "LayoutView",
            "grid_template_rows": null,
            "right": null,
            "justify_content": null,
            "_view_module": "@jupyter-widgets/base",
            "overflow": null,
            "_model_module_version": "1.2.0",
            "_view_count": null,
            "flex_flow": null,
            "width": null,
            "min_width": null,
            "border": null,
            "align_items": null,
            "bottom": null,
            "_model_module": "@jupyter-widgets/base",
            "top": null,
            "grid_column": null,
            "overflow_y": null,
            "overflow_x": null,
            "grid_auto_flow": null,
            "grid_area": null,
            "grid_template_columns": null,
            "flex": null,
            "_model_name": "LayoutModel",
            "justify_items": null,
            "grid_row": null,
            "max_height": null,
            "align_content": null,
            "visibility": null,
            "align_self": null,
            "height": null,
            "min_height": null,
            "padding": null,
            "grid_auto_rows": null,
            "grid_gap": null,
            "max_width": null,
            "order": null,
            "_view_module_version": "1.2.0",
            "grid_template_areas": null,
            "object_position": null,
            "object_fit": null,
            "grid_auto_columns": null,
            "margin": null,
            "display": null,
            "left": null
          },
          "model_module_version": "1.2.0"
        },
        "877d5386b47141d883897f835bf4073c": {
          "model_module": "@jupyter-widgets/controls",
          "model_name": "DescriptionStyleModel",
          "state": {
            "_view_name": "StyleView",
            "_model_name": "DescriptionStyleModel",
            "description_width": "",
            "_view_module": "@jupyter-widgets/base",
            "_model_module_version": "1.5.0",
            "_view_count": null,
            "_view_module_version": "1.2.0",
            "_model_module": "@jupyter-widgets/controls"
          },
          "model_module_version": "1.5.0"
        },
        "53db8ff466304f32b29b544b480062f1": {
          "model_module": "@jupyter-widgets/base",
          "model_name": "LayoutModel",
          "state": {
            "_view_name": "LayoutView",
            "grid_template_rows": null,
            "right": null,
            "justify_content": null,
            "_view_module": "@jupyter-widgets/base",
            "overflow": null,
            "_model_module_version": "1.2.0",
            "_view_count": null,
            "flex_flow": null,
            "width": null,
            "min_width": null,
            "border": null,
            "align_items": null,
            "bottom": null,
            "_model_module": "@jupyter-widgets/base",
            "top": null,
            "grid_column": null,
            "overflow_y": null,
            "overflow_x": null,
            "grid_auto_flow": null,
            "grid_area": null,
            "grid_template_columns": null,
            "flex": null,
            "_model_name": "LayoutModel",
            "justify_items": null,
            "grid_row": null,
            "max_height": null,
            "align_content": null,
            "visibility": null,
            "align_self": null,
            "height": null,
            "min_height": null,
            "padding": null,
            "grid_auto_rows": null,
            "grid_gap": null,
            "max_width": null,
            "order": null,
            "_view_module_version": "1.2.0",
            "grid_template_areas": null,
            "object_position": null,
            "object_fit": null,
            "grid_auto_columns": null,
            "margin": null,
            "display": null,
            "left": null
          },
          "model_module_version": "1.2.0"
        },
        "9de24b9289fe4feb8ca591099e0ab69d": {
          "model_module": "@jupyter-widgets/controls",
          "model_name": "HBoxModel",
          "state": {
            "_view_name": "HBoxView",
            "_dom_classes": [],
            "_model_name": "HBoxModel",
            "_view_module": "@jupyter-widgets/controls",
            "_model_module_version": "1.5.0",
            "_view_count": null,
            "_view_module_version": "1.5.0",
            "box_style": "",
            "layout": "IPY_MODEL_6f05290d31ce47ba9fc8c8ac14502f19",
            "_model_module": "@jupyter-widgets/controls",
            "children": [
              "IPY_MODEL_fca18f3669074c0fb2203f59b44ebb20",
              "IPY_MODEL_d70fee3cacab47a281b55e1292c1cca7"
            ]
          },
          "model_module_version": "1.5.0"
        },
        "6f05290d31ce47ba9fc8c8ac14502f19": {
          "model_module": "@jupyter-widgets/base",
          "model_name": "LayoutModel",
          "state": {
            "_view_name": "LayoutView",
            "grid_template_rows": null,
            "right": null,
            "justify_content": null,
            "_view_module": "@jupyter-widgets/base",
            "overflow": null,
            "_model_module_version": "1.2.0",
            "_view_count": null,
            "flex_flow": null,
            "width": null,
            "min_width": null,
            "border": null,
            "align_items": null,
            "bottom": null,
            "_model_module": "@jupyter-widgets/base",
            "top": null,
            "grid_column": null,
            "overflow_y": null,
            "overflow_x": null,
            "grid_auto_flow": null,
            "grid_area": null,
            "grid_template_columns": null,
            "flex": null,
            "_model_name": "LayoutModel",
            "justify_items": null,
            "grid_row": null,
            "max_height": null,
            "align_content": null,
            "visibility": null,
            "align_self": null,
            "height": null,
            "min_height": null,
            "padding": null,
            "grid_auto_rows": null,
            "grid_gap": null,
            "max_width": null,
            "order": null,
            "_view_module_version": "1.2.0",
            "grid_template_areas": null,
            "object_position": null,
            "object_fit": null,
            "grid_auto_columns": null,
            "margin": null,
            "display": null,
            "left": null
          },
          "model_module_version": "1.2.0"
        },
        "fca18f3669074c0fb2203f59b44ebb20": {
          "model_module": "@jupyter-widgets/controls",
          "model_name": "FloatProgressModel",
          "state": {
            "_view_name": "ProgressView",
            "style": "IPY_MODEL_9747c613ca494e8f960d73e3d0cac2c7",
            "_dom_classes": [],
            "description": "Downloading: 100%",
            "_model_name": "FloatProgressModel",
            "bar_style": "success",
            "max": 231508,
            "_view_module": "@jupyter-widgets/controls",
            "_model_module_version": "1.5.0",
            "value": 231508,
            "_view_count": null,
            "_view_module_version": "1.5.0",
            "orientation": "horizontal",
            "min": 0,
            "description_tooltip": null,
            "_model_module": "@jupyter-widgets/controls",
            "layout": "IPY_MODEL_051d8bb437104d239faae9f3e52a71ae"
          },
          "model_module_version": "1.5.0"
        },
        "d70fee3cacab47a281b55e1292c1cca7": {
          "model_module": "@jupyter-widgets/controls",
          "model_name": "HTMLModel",
          "state": {
            "_view_name": "HTMLView",
            "style": "IPY_MODEL_a930a784211a4519b544c4266d3a9da6",
            "_dom_classes": [],
            "description": "",
            "_model_name": "HTMLModel",
            "placeholder": "​",
            "_view_module": "@jupyter-widgets/controls",
            "_model_module_version": "1.5.0",
            "value": " 232k/232k [00:01&lt;00:00, 220kB/s]",
            "_view_count": null,
            "_view_module_version": "1.5.0",
            "description_tooltip": null,
            "_model_module": "@jupyter-widgets/controls",
            "layout": "IPY_MODEL_3fb1cceee6544eed85596cd5acb2397c"
          },
          "model_module_version": "1.5.0"
        },
        "9747c613ca494e8f960d73e3d0cac2c7": {
          "model_module": "@jupyter-widgets/controls",
          "model_name": "ProgressStyleModel",
          "state": {
            "_view_name": "StyleView",
            "_model_name": "ProgressStyleModel",
            "description_width": "initial",
            "_view_module": "@jupyter-widgets/base",
            "_model_module_version": "1.5.0",
            "_view_count": null,
            "_view_module_version": "1.2.0",
            "bar_color": null,
            "_model_module": "@jupyter-widgets/controls"
          },
          "model_module_version": "1.5.0"
        },
        "051d8bb437104d239faae9f3e52a71ae": {
          "model_module": "@jupyter-widgets/base",
          "model_name": "LayoutModel",
          "state": {
            "_view_name": "LayoutView",
            "grid_template_rows": null,
            "right": null,
            "justify_content": null,
            "_view_module": "@jupyter-widgets/base",
            "overflow": null,
            "_model_module_version": "1.2.0",
            "_view_count": null,
            "flex_flow": null,
            "width": null,
            "min_width": null,
            "border": null,
            "align_items": null,
            "bottom": null,
            "_model_module": "@jupyter-widgets/base",
            "top": null,
            "grid_column": null,
            "overflow_y": null,
            "overflow_x": null,
            "grid_auto_flow": null,
            "grid_area": null,
            "grid_template_columns": null,
            "flex": null,
            "_model_name": "LayoutModel",
            "justify_items": null,
            "grid_row": null,
            "max_height": null,
            "align_content": null,
            "visibility": null,
            "align_self": null,
            "height": null,
            "min_height": null,
            "padding": null,
            "grid_auto_rows": null,
            "grid_gap": null,
            "max_width": null,
            "order": null,
            "_view_module_version": "1.2.0",
            "grid_template_areas": null,
            "object_position": null,
            "object_fit": null,
            "grid_auto_columns": null,
            "margin": null,
            "display": null,
            "left": null
          },
          "model_module_version": "1.2.0"
        },
        "a930a784211a4519b544c4266d3a9da6": {
          "model_module": "@jupyter-widgets/controls",
          "model_name": "DescriptionStyleModel",
          "state": {
            "_view_name": "StyleView",
            "_model_name": "DescriptionStyleModel",
            "description_width": "",
            "_view_module": "@jupyter-widgets/base",
            "_model_module_version": "1.5.0",
            "_view_count": null,
            "_view_module_version": "1.2.0",
            "_model_module": "@jupyter-widgets/controls"
          },
          "model_module_version": "1.5.0"
        },
        "3fb1cceee6544eed85596cd5acb2397c": {
          "model_module": "@jupyter-widgets/base",
          "model_name": "LayoutModel",
          "state": {
            "_view_name": "LayoutView",
            "grid_template_rows": null,
            "right": null,
            "justify_content": null,
            "_view_module": "@jupyter-widgets/base",
            "overflow": null,
            "_model_module_version": "1.2.0",
            "_view_count": null,
            "flex_flow": null,
            "width": null,
            "min_width": null,
            "border": null,
            "align_items": null,
            "bottom": null,
            "_model_module": "@jupyter-widgets/base",
            "top": null,
            "grid_column": null,
            "overflow_y": null,
            "overflow_x": null,
            "grid_auto_flow": null,
            "grid_area": null,
            "grid_template_columns": null,
            "flex": null,
            "_model_name": "LayoutModel",
            "justify_items": null,
            "grid_row": null,
            "max_height": null,
            "align_content": null,
            "visibility": null,
            "align_self": null,
            "height": null,
            "min_height": null,
            "padding": null,
            "grid_auto_rows": null,
            "grid_gap": null,
            "max_width": null,
            "order": null,
            "_view_module_version": "1.2.0",
            "grid_template_areas": null,
            "object_position": null,
            "object_fit": null,
            "grid_auto_columns": null,
            "margin": null,
            "display": null,
            "left": null
          },
          "model_module_version": "1.2.0"
        },
        "f6c99f7655794259b5dea5c71c69302e": {
          "model_module": "@jupyter-widgets/controls",
          "model_name": "HBoxModel",
          "state": {
            "_view_name": "HBoxView",
            "_dom_classes": [],
            "_model_name": "HBoxModel",
            "_view_module": "@jupyter-widgets/controls",
            "_model_module_version": "1.5.0",
            "_view_count": null,
            "_view_module_version": "1.5.0",
            "box_style": "",
            "layout": "IPY_MODEL_de058a70aa304ad98ac080320b32c985",
            "_model_module": "@jupyter-widgets/controls",
            "children": [
              "IPY_MODEL_014b977cc2b24507840c82711f922d88",
              "IPY_MODEL_89371b22449240dfa679d8f3c5b75634"
            ]
          },
          "model_module_version": "1.5.0"
        },
        "de058a70aa304ad98ac080320b32c985": {
          "model_module": "@jupyter-widgets/base",
          "model_name": "LayoutModel",
          "state": {
            "_view_name": "LayoutView",
            "grid_template_rows": null,
            "right": null,
            "justify_content": null,
            "_view_module": "@jupyter-widgets/base",
            "overflow": null,
            "_model_module_version": "1.2.0",
            "_view_count": null,
            "flex_flow": null,
            "width": null,
            "min_width": null,
            "border": null,
            "align_items": null,
            "bottom": null,
            "_model_module": "@jupyter-widgets/base",
            "top": null,
            "grid_column": null,
            "overflow_y": null,
            "overflow_x": null,
            "grid_auto_flow": null,
            "grid_area": null,
            "grid_template_columns": null,
            "flex": null,
            "_model_name": "LayoutModel",
            "justify_items": null,
            "grid_row": null,
            "max_height": null,
            "align_content": null,
            "visibility": null,
            "align_self": null,
            "height": null,
            "min_height": null,
            "padding": null,
            "grid_auto_rows": null,
            "grid_gap": null,
            "max_width": null,
            "order": null,
            "_view_module_version": "1.2.0",
            "grid_template_areas": null,
            "object_position": null,
            "object_fit": null,
            "grid_auto_columns": null,
            "margin": null,
            "display": null,
            "left": null
          },
          "model_module_version": "1.2.0"
        },
        "014b977cc2b24507840c82711f922d88": {
          "model_module": "@jupyter-widgets/controls",
          "model_name": "FloatProgressModel",
          "state": {
            "_view_name": "ProgressView",
            "style": "IPY_MODEL_755808d1156b4fbf89cb5eae4172ab2e",
            "_dom_classes": [],
            "description": "Downloading: 100%",
            "_model_name": "FloatProgressModel",
            "bar_style": "success",
            "max": 112,
            "_view_module": "@jupyter-widgets/controls",
            "_model_module_version": "1.5.0",
            "value": 112,
            "_view_count": null,
            "_view_module_version": "1.5.0",
            "orientation": "horizontal",
            "min": 0,
            "description_tooltip": null,
            "_model_module": "@jupyter-widgets/controls",
            "layout": "IPY_MODEL_9a4ca712e7d548378c6ccdd6be8c44d9"
          },
          "model_module_version": "1.5.0"
        },
        "89371b22449240dfa679d8f3c5b75634": {
          "model_module": "@jupyter-widgets/controls",
          "model_name": "HTMLModel",
          "state": {
            "_view_name": "HTMLView",
            "style": "IPY_MODEL_6df95c8704b04bb9bdd469f7a10e88de",
            "_dom_classes": [],
            "description": "",
            "_model_name": "HTMLModel",
            "placeholder": "​",
            "_view_module": "@jupyter-widgets/controls",
            "_model_module_version": "1.5.0",
            "value": " 112/112 [00:00&lt;00:00, 341B/s]",
            "_view_count": null,
            "_view_module_version": "1.5.0",
            "description_tooltip": null,
            "_model_module": "@jupyter-widgets/controls",
            "layout": "IPY_MODEL_2279f0ec42d049de81debf7f837497fe"
          },
          "model_module_version": "1.5.0"
        },
        "755808d1156b4fbf89cb5eae4172ab2e": {
          "model_module": "@jupyter-widgets/controls",
          "model_name": "ProgressStyleModel",
          "state": {
            "_view_name": "StyleView",
            "_model_name": "ProgressStyleModel",
            "description_width": "initial",
            "_view_module": "@jupyter-widgets/base",
            "_model_module_version": "1.5.0",
            "_view_count": null,
            "_view_module_version": "1.2.0",
            "bar_color": null,
            "_model_module": "@jupyter-widgets/controls"
          },
          "model_module_version": "1.5.0"
        },
        "9a4ca712e7d548378c6ccdd6be8c44d9": {
          "model_module": "@jupyter-widgets/base",
          "model_name": "LayoutModel",
          "state": {
            "_view_name": "LayoutView",
            "grid_template_rows": null,
            "right": null,
            "justify_content": null,
            "_view_module": "@jupyter-widgets/base",
            "overflow": null,
            "_model_module_version": "1.2.0",
            "_view_count": null,
            "flex_flow": null,
            "width": null,
            "min_width": null,
            "border": null,
            "align_items": null,
            "bottom": null,
            "_model_module": "@jupyter-widgets/base",
            "top": null,
            "grid_column": null,
            "overflow_y": null,
            "overflow_x": null,
            "grid_auto_flow": null,
            "grid_area": null,
            "grid_template_columns": null,
            "flex": null,
            "_model_name": "LayoutModel",
            "justify_items": null,
            "grid_row": null,
            "max_height": null,
            "align_content": null,
            "visibility": null,
            "align_self": null,
            "height": null,
            "min_height": null,
            "padding": null,
            "grid_auto_rows": null,
            "grid_gap": null,
            "max_width": null,
            "order": null,
            "_view_module_version": "1.2.0",
            "grid_template_areas": null,
            "object_position": null,
            "object_fit": null,
            "grid_auto_columns": null,
            "margin": null,
            "display": null,
            "left": null
          },
          "model_module_version": "1.2.0"
        },
        "6df95c8704b04bb9bdd469f7a10e88de": {
          "model_module": "@jupyter-widgets/controls",
          "model_name": "DescriptionStyleModel",
          "state": {
            "_view_name": "StyleView",
            "_model_name": "DescriptionStyleModel",
            "description_width": "",
            "_view_module": "@jupyter-widgets/base",
            "_model_module_version": "1.5.0",
            "_view_count": null,
            "_view_module_version": "1.2.0",
            "_model_module": "@jupyter-widgets/controls"
          },
          "model_module_version": "1.5.0"
        },
        "2279f0ec42d049de81debf7f837497fe": {
          "model_module": "@jupyter-widgets/base",
          "model_name": "LayoutModel",
          "state": {
            "_view_name": "LayoutView",
            "grid_template_rows": null,
            "right": null,
            "justify_content": null,
            "_view_module": "@jupyter-widgets/base",
            "overflow": null,
            "_model_module_version": "1.2.0",
            "_view_count": null,
            "flex_flow": null,
            "width": null,
            "min_width": null,
            "border": null,
            "align_items": null,
            "bottom": null,
            "_model_module": "@jupyter-widgets/base",
            "top": null,
            "grid_column": null,
            "overflow_y": null,
            "overflow_x": null,
            "grid_auto_flow": null,
            "grid_area": null,
            "grid_template_columns": null,
            "flex": null,
            "_model_name": "LayoutModel",
            "justify_items": null,
            "grid_row": null,
            "max_height": null,
            "align_content": null,
            "visibility": null,
            "align_self": null,
            "height": null,
            "min_height": null,
            "padding": null,
            "grid_auto_rows": null,
            "grid_gap": null,
            "max_width": null,
            "order": null,
            "_view_module_version": "1.2.0",
            "grid_template_areas": null,
            "object_position": null,
            "object_fit": null,
            "grid_auto_columns": null,
            "margin": null,
            "display": null,
            "left": null
          },
          "model_module_version": "1.2.0"
        },
        "a44f37e0bf9b471aa9cf370f1f79d38a": {
          "model_module": "@jupyter-widgets/controls",
          "model_name": "HBoxModel",
          "state": {
            "_view_name": "HBoxView",
            "_dom_classes": [],
            "_model_name": "HBoxModel",
            "_view_module": "@jupyter-widgets/controls",
            "_model_module_version": "1.5.0",
            "_view_count": null,
            "_view_module_version": "1.5.0",
            "box_style": "",
            "layout": "IPY_MODEL_e62e340dfbfb42d5b0701ae2c8bb1dda",
            "_model_module": "@jupyter-widgets/controls",
            "children": [
              "IPY_MODEL_07d53574d73f4be78ecf3f0d2d0c9519",
              "IPY_MODEL_931599b65d0b4161a321d743127a0fe6"
            ]
          },
          "model_module_version": "1.5.0"
        },
        "e62e340dfbfb42d5b0701ae2c8bb1dda": {
          "model_module": "@jupyter-widgets/base",
          "model_name": "LayoutModel",
          "state": {
            "_view_name": "LayoutView",
            "grid_template_rows": null,
            "right": null,
            "justify_content": null,
            "_view_module": "@jupyter-widgets/base",
            "overflow": null,
            "_model_module_version": "1.2.0",
            "_view_count": null,
            "flex_flow": null,
            "width": null,
            "min_width": null,
            "border": null,
            "align_items": null,
            "bottom": null,
            "_model_module": "@jupyter-widgets/base",
            "top": null,
            "grid_column": null,
            "overflow_y": null,
            "overflow_x": null,
            "grid_auto_flow": null,
            "grid_area": null,
            "grid_template_columns": null,
            "flex": null,
            "_model_name": "LayoutModel",
            "justify_items": null,
            "grid_row": null,
            "max_height": null,
            "align_content": null,
            "visibility": null,
            "align_self": null,
            "height": null,
            "min_height": null,
            "padding": null,
            "grid_auto_rows": null,
            "grid_gap": null,
            "max_width": null,
            "order": null,
            "_view_module_version": "1.2.0",
            "grid_template_areas": null,
            "object_position": null,
            "object_fit": null,
            "grid_auto_columns": null,
            "margin": null,
            "display": null,
            "left": null
          },
          "model_module_version": "1.2.0"
        },
        "07d53574d73f4be78ecf3f0d2d0c9519": {
          "model_module": "@jupyter-widgets/controls",
          "model_name": "FloatProgressModel",
          "state": {
            "_view_name": "ProgressView",
            "style": "IPY_MODEL_2d2623a5472a407cb97b61d25e57f221",
            "_dom_classes": [],
            "description": "Downloading: 100%",
            "_model_name": "FloatProgressModel",
            "bar_style": "success",
            "max": 48,
            "_view_module": "@jupyter-widgets/controls",
            "_model_module_version": "1.5.0",
            "value": 48,
            "_view_count": null,
            "_view_module_version": "1.5.0",
            "orientation": "horizontal",
            "min": 0,
            "description_tooltip": null,
            "_model_module": "@jupyter-widgets/controls",
            "layout": "IPY_MODEL_027667c0bc494aafaa379c47d7893b8a"
          },
          "model_module_version": "1.5.0"
        },
        "931599b65d0b4161a321d743127a0fe6": {
          "model_module": "@jupyter-widgets/controls",
          "model_name": "HTMLModel",
          "state": {
            "_view_name": "HTMLView",
            "style": "IPY_MODEL_fd56f22577df46fcb9e43f01bf4ce5c0",
            "_dom_classes": [],
            "description": "",
            "_model_name": "HTMLModel",
            "placeholder": "​",
            "_view_module": "@jupyter-widgets/controls",
            "_model_module_version": "1.5.0",
            "value": " 48.0/48.0 [00:00&lt;00:00, 181B/s]",
            "_view_count": null,
            "_view_module_version": "1.5.0",
            "description_tooltip": null,
            "_model_module": "@jupyter-widgets/controls",
            "layout": "IPY_MODEL_3c9ff3d44af34a6e877eb2772adb76d2"
          },
          "model_module_version": "1.5.0"
        },
        "2d2623a5472a407cb97b61d25e57f221": {
          "model_module": "@jupyter-widgets/controls",
          "model_name": "ProgressStyleModel",
          "state": {
            "_view_name": "StyleView",
            "_model_name": "ProgressStyleModel",
            "description_width": "initial",
            "_view_module": "@jupyter-widgets/base",
            "_model_module_version": "1.5.0",
            "_view_count": null,
            "_view_module_version": "1.2.0",
            "bar_color": null,
            "_model_module": "@jupyter-widgets/controls"
          },
          "model_module_version": "1.5.0"
        },
        "027667c0bc494aafaa379c47d7893b8a": {
          "model_module": "@jupyter-widgets/base",
          "model_name": "LayoutModel",
          "state": {
            "_view_name": "LayoutView",
            "grid_template_rows": null,
            "right": null,
            "justify_content": null,
            "_view_module": "@jupyter-widgets/base",
            "overflow": null,
            "_model_module_version": "1.2.0",
            "_view_count": null,
            "flex_flow": null,
            "width": null,
            "min_width": null,
            "border": null,
            "align_items": null,
            "bottom": null,
            "_model_module": "@jupyter-widgets/base",
            "top": null,
            "grid_column": null,
            "overflow_y": null,
            "overflow_x": null,
            "grid_auto_flow": null,
            "grid_area": null,
            "grid_template_columns": null,
            "flex": null,
            "_model_name": "LayoutModel",
            "justify_items": null,
            "grid_row": null,
            "max_height": null,
            "align_content": null,
            "visibility": null,
            "align_self": null,
            "height": null,
            "min_height": null,
            "padding": null,
            "grid_auto_rows": null,
            "grid_gap": null,
            "max_width": null,
            "order": null,
            "_view_module_version": "1.2.0",
            "grid_template_areas": null,
            "object_position": null,
            "object_fit": null,
            "grid_auto_columns": null,
            "margin": null,
            "display": null,
            "left": null
          },
          "model_module_version": "1.2.0"
        },
        "fd56f22577df46fcb9e43f01bf4ce5c0": {
          "model_module": "@jupyter-widgets/controls",
          "model_name": "DescriptionStyleModel",
          "state": {
            "_view_name": "StyleView",
            "_model_name": "DescriptionStyleModel",
            "description_width": "",
            "_view_module": "@jupyter-widgets/base",
            "_model_module_version": "1.5.0",
            "_view_count": null,
            "_view_module_version": "1.2.0",
            "_model_module": "@jupyter-widgets/controls"
          },
          "model_module_version": "1.5.0"
        },
        "3c9ff3d44af34a6e877eb2772adb76d2": {
          "model_module": "@jupyter-widgets/base",
          "model_name": "LayoutModel",
          "state": {
            "_view_name": "LayoutView",
            "grid_template_rows": null,
            "right": null,
            "justify_content": null,
            "_view_module": "@jupyter-widgets/base",
            "overflow": null,
            "_model_module_version": "1.2.0",
            "_view_count": null,
            "flex_flow": null,
            "width": null,
            "min_width": null,
            "border": null,
            "align_items": null,
            "bottom": null,
            "_model_module": "@jupyter-widgets/base",
            "top": null,
            "grid_column": null,
            "overflow_y": null,
            "overflow_x": null,
            "grid_auto_flow": null,
            "grid_area": null,
            "grid_template_columns": null,
            "flex": null,
            "_model_name": "LayoutModel",
            "justify_items": null,
            "grid_row": null,
            "max_height": null,
            "align_content": null,
            "visibility": null,
            "align_self": null,
            "height": null,
            "min_height": null,
            "padding": null,
            "grid_auto_rows": null,
            "grid_gap": null,
            "max_width": null,
            "order": null,
            "_view_module_version": "1.2.0",
            "grid_template_areas": null,
            "object_position": null,
            "object_fit": null,
            "grid_auto_columns": null,
            "margin": null,
            "display": null,
            "left": null
          },
          "model_module_version": "1.2.0"
        }
      }
    }
  },
  "cells": [
    {
      "cell_type": "markdown",
      "metadata": {
        "id": "view-in-github",
        "colab_type": "text"
      },
      "source": [
        "<a href=\"https://colab.research.google.com/github/Warra07/ABSADatasets/blob/master/Copie_de_DeepLift_BERT.ipynb\" target=\"_parent\"><img src=\"https://colab.research.google.com/assets/colab-badge.svg\" alt=\"Open In Colab\"/></a>"
      ]
    },
    {
      "cell_type": "markdown",
      "metadata": {
        "id": "qHSxsPrJmkuC"
      },
      "source": [
        "# DeepLift BERT\n",
        "\n",
        "*Issue: DeepLift delta magnitude becomes large when softmax explicitly initialised in huggingface/transformers BERT model. Raised as https://github.com/pytorch/captum/issues/519*\n",
        "\n",
        "Using captum's DeepLift implementation to explain predictions from a huggingface/transformers BERT model.\n",
        "\n",
        "As per discussion on captum issue 347 (https://github.com/pytorch/captum/issues/347#issuecomment-616864035) softmax non-linearity needs to be explicitly initialised in model's `__init__`. \n",
        "\n",
        "I have forked the transformers repository and made this change in https://github.com/lannelin/transformers/commit/1fd1e4a59628a731b24eb3514ef586dc0b075b5f\n",
        "\n",
        "This change results in a very large delta. Increasing in magnitude, on the same text, from 1.9306 to 12386754.\n",
        "\n",
        "The attributions from DeepLift (contrasted to IntegratedGradients) are also misleading.\n",
        "\n",
        "\n",
        "----\n",
        "\n",
        "edit: 23rd nov\n",
        "update transformers fork to explicity instantiate `torch.nn.GELU` (https://github.com/lannelin/transformers/commit/c731d9b621fc349513b447d564ef2972cf683242)\n",
        "\n",
        "use captum fork with `torch.nn.GELU` added to DeepLift as supported non-linearity (https://github.com/lannelin/captum/commit/4dd7eae56e507af26e956d43bf7989e176d6dbe9)\n",
        "\n",
        "note: colab installation seems to error but package seems to be installed? verified change is present to deeplift at end of notebook"
      ]
    },
    {
      "cell_type": "code",
      "metadata": {
        "id": "9LbrQaOiwuP7",
        "colab": {
          "base_uri": "https://localhost:8080/"
        },
        "outputId": "655e19c8-621a-48b2-fd3f-70ad6a4c27e1"
      },
      "source": [
        "# install transformers from fork. deeplift_bert branch contains change to\n",
        "# explicitly initialise softmax as per advice\n",
        "# https://github.com/pytorch/captum/issues/347#issuecomment-616864035\n",
        "! pip install git+https://github.com/lannelin/transformers.git@deeplift_bert\n",
        "\n",
        "# install captum from fork. deeplft_gelu branch contains change to\n",
        "# add nn.GELU  as supporrted nonlinearity\n",
        "! pip install git+https://github.com/lannelin/captum.git@deeplift_gelu"
      ],
      "execution_count": null,
      "outputs": [
        {
          "output_type": "stream",
          "text": [
            "Collecting git+https://github.com/lannelin/transformers.git@deeplift_bert\n",
            "  Cloning https://github.com/lannelin/transformers.git (to revision deeplift_bert) to /tmp/pip-req-build-z9h23k5y\n",
            "  Running command git clone -q https://github.com/lannelin/transformers.git /tmp/pip-req-build-z9h23k5y\n",
            "  Running command git checkout -b deeplift_bert --track origin/deeplift_bert\n",
            "  Switched to a new branch 'deeplift_bert'\n",
            "  Branch 'deeplift_bert' set up to track remote branch 'deeplift_bert' from 'origin'.\n",
            "  Installing build dependencies ... \u001b[?25l\u001b[?25hdone\n",
            "  Getting requirements to build wheel ... \u001b[?25l\u001b[?25hdone\n",
            "    Preparing wheel metadata ... \u001b[?25l\u001b[?25hdone\n",
            "Requirement already satisfied: protobuf in /usr/local/lib/python3.6/dist-packages (from transformers==3.4.0) (3.12.4)\n",
            "Requirement already satisfied: packaging in /usr/local/lib/python3.6/dist-packages (from transformers==3.4.0) (20.4)\n",
            "Requirement already satisfied: tqdm>=4.27 in /usr/local/lib/python3.6/dist-packages (from transformers==3.4.0) (4.41.1)\n",
            "Collecting sentencepiece==0.1.91\n",
            "\u001b[?25l  Downloading https://files.pythonhosted.org/packages/d4/a4/d0a884c4300004a78cca907a6ff9a5e9fe4f090f5d95ab341c53d28cbc58/sentencepiece-0.1.91-cp36-cp36m-manylinux1_x86_64.whl (1.1MB)\n",
            "\u001b[K     |████████████████████████████████| 1.1MB 6.4MB/s \n",
            "\u001b[?25hRequirement already satisfied: dataclasses; python_version < \"3.7\" in /usr/local/lib/python3.6/dist-packages (from transformers==3.4.0) (0.7)\n",
            "Requirement already satisfied: numpy in /usr/local/lib/python3.6/dist-packages (from transformers==3.4.0) (1.18.5)\n",
            "Requirement already satisfied: requests in /usr/local/lib/python3.6/dist-packages (from transformers==3.4.0) (2.23.0)\n",
            "Collecting sacremoses\n",
            "\u001b[?25l  Downloading https://files.pythonhosted.org/packages/7d/34/09d19aff26edcc8eb2a01bed8e98f13a1537005d31e95233fd48216eed10/sacremoses-0.0.43.tar.gz (883kB)\n",
            "\u001b[K     |████████████████████████████████| 890kB 17.5MB/s \n",
            "\u001b[?25hCollecting tokenizers==0.9.2\n",
            "\u001b[?25l  Downloading https://files.pythonhosted.org/packages/7c/a5/78be1a55b2ac8d6a956f0a211d372726e2b1dd2666bb537fea9b03abd62c/tokenizers-0.9.2-cp36-cp36m-manylinux1_x86_64.whl (2.9MB)\n",
            "\u001b[K     |████████████████████████████████| 2.9MB 14.1MB/s \n",
            "\u001b[?25hRequirement already satisfied: regex!=2019.12.17 in /usr/local/lib/python3.6/dist-packages (from transformers==3.4.0) (2019.12.20)\n",
            "Requirement already satisfied: filelock in /usr/local/lib/python3.6/dist-packages (from transformers==3.4.0) (3.0.12)\n",
            "Requirement already satisfied: six>=1.9 in /usr/local/lib/python3.6/dist-packages (from protobuf->transformers==3.4.0) (1.15.0)\n",
            "Requirement already satisfied: setuptools in /usr/local/lib/python3.6/dist-packages (from protobuf->transformers==3.4.0) (50.3.2)\n",
            "Requirement already satisfied: pyparsing>=2.0.2 in /usr/local/lib/python3.6/dist-packages (from packaging->transformers==3.4.0) (2.4.7)\n",
            "Requirement already satisfied: idna<3,>=2.5 in /usr/local/lib/python3.6/dist-packages (from requests->transformers==3.4.0) (2.10)\n",
            "Requirement already satisfied: chardet<4,>=3.0.2 in /usr/local/lib/python3.6/dist-packages (from requests->transformers==3.4.0) (3.0.4)\n",
            "Requirement already satisfied: urllib3!=1.25.0,!=1.25.1,<1.26,>=1.21.1 in /usr/local/lib/python3.6/dist-packages (from requests->transformers==3.4.0) (1.24.3)\n",
            "Requirement already satisfied: certifi>=2017.4.17 in /usr/local/lib/python3.6/dist-packages (from requests->transformers==3.4.0) (2020.6.20)\n",
            "Requirement already satisfied: click in /usr/local/lib/python3.6/dist-packages (from sacremoses->transformers==3.4.0) (7.1.2)\n",
            "Requirement already satisfied: joblib in /usr/local/lib/python3.6/dist-packages (from sacremoses->transformers==3.4.0) (0.17.0)\n",
            "Building wheels for collected packages: transformers\n",
            "  Building wheel for transformers (PEP 517) ... \u001b[?25l\u001b[?25hdone\n",
            "  Created wheel for transformers: filename=transformers-3.4.0-cp36-none-any.whl size=1297714 sha256=078dd544627551175e981dea074e26fd4c6e50f5375717cb488dc634f0bb566c\n",
            "  Stored in directory: /tmp/pip-ephem-wheel-cache-pzn96vfp/wheels/48/b4/94/207ab282e70278fdeed1f55b6412292a328557c8f8dba914b2\n",
            "Successfully built transformers\n",
            "Building wheels for collected packages: sacremoses\n",
            "  Building wheel for sacremoses (setup.py) ... \u001b[?25l\u001b[?25hdone\n",
            "  Created wheel for sacremoses: filename=sacremoses-0.0.43-cp36-none-any.whl size=893257 sha256=ad239e819b0157d9118794bdcd1c7867370b89edd57ac0091dd7ec76941808a1\n",
            "  Stored in directory: /root/.cache/pip/wheels/29/3c/fd/7ce5c3f0666dab31a50123635e6fb5e19ceb42ce38d4e58f45\n",
            "Successfully built sacremoses\n",
            "Installing collected packages: sentencepiece, sacremoses, tokenizers, transformers\n",
            "Successfully installed sacremoses-0.0.43 sentencepiece-0.1.91 tokenizers-0.9.2 transformers-3.4.0\n",
            "Collecting git+https://github.com/lannelin/captum.git@deeplift_gelu\n",
            "  Cloning https://github.com/lannelin/captum.git (to revision deeplift_gelu) to /tmp/pip-req-build-32yeg9q2\n",
            "  Running command git clone -q https://github.com/lannelin/captum.git /tmp/pip-req-build-32yeg9q2\n",
            "  Running command git checkout -b deeplift_gelu --track origin/deeplift_gelu\n",
            "  Switched to a new branch 'deeplift_gelu'\n",
            "  Branch 'deeplift_gelu' set up to track remote branch 'deeplift_gelu' from 'origin'.\n",
            "Requirement already satisfied: matplotlib in /usr/local/lib/python3.6/dist-packages (from captum==0.3.0) (3.2.2)\n",
            "Requirement already satisfied: numpy in /usr/local/lib/python3.6/dist-packages (from captum==0.3.0) (1.18.5)\n",
            "Requirement already satisfied: torch>=1.2 in /usr/local/lib/python3.6/dist-packages (from captum==0.3.0) (1.7.0+cu101)\n",
            "Requirement already satisfied: pyparsing!=2.0.4,!=2.1.2,!=2.1.6,>=2.0.1 in /usr/local/lib/python3.6/dist-packages (from matplotlib->captum==0.3.0) (2.4.7)\n",
            "Requirement already satisfied: kiwisolver>=1.0.1 in /usr/local/lib/python3.6/dist-packages (from matplotlib->captum==0.3.0) (1.3.1)\n",
            "Requirement already satisfied: cycler>=0.10 in /usr/local/lib/python3.6/dist-packages (from matplotlib->captum==0.3.0) (0.10.0)\n",
            "Requirement already satisfied: python-dateutil>=2.1 in /usr/local/lib/python3.6/dist-packages (from matplotlib->captum==0.3.0) (2.8.1)\n",
            "Requirement already satisfied: future in /usr/local/lib/python3.6/dist-packages (from torch>=1.2->captum==0.3.0) (0.16.0)\n",
            "Requirement already satisfied: typing-extensions in /usr/local/lib/python3.6/dist-packages (from torch>=1.2->captum==0.3.0) (3.7.4.3)\n",
            "Requirement already satisfied: dataclasses in /usr/local/lib/python3.6/dist-packages (from torch>=1.2->captum==0.3.0) (0.7)\n",
            "Requirement already satisfied: six in /usr/local/lib/python3.6/dist-packages (from cycler>=0.10->matplotlib->captum==0.3.0) (1.15.0)\n",
            "Building wheels for collected packages: captum\n",
            "  Building wheel for captum (setup.py) ... \u001b[?25lerror\n",
            "\u001b[31m  ERROR: Failed building wheel for captum\u001b[0m\n",
            "\u001b[?25h  Running setup.py clean for captum\n",
            "Failed to build captum\n",
            "Installing collected packages: captum\n",
            "    Running setup.py install for captum ... \u001b[?25l\u001b[?25herror\n",
            "\u001b[31mERROR: Command errored out with exit status 1: /usr/bin/python3 -u -c 'import sys, setuptools, tokenize; sys.argv[0] = '\"'\"'/tmp/pip-req-build-32yeg9q2/setup.py'\"'\"'; __file__='\"'\"'/tmp/pip-req-build-32yeg9q2/setup.py'\"'\"';f=getattr(tokenize, '\"'\"'open'\"'\"', open)(__file__);code=f.read().replace('\"'\"'\\r\\n'\"'\"', '\"'\"'\\n'\"'\"');f.close();exec(compile(code, __file__, '\"'\"'exec'\"'\"'))' install --record /tmp/pip-record-cmtnobks/install-record.txt --single-version-externally-managed --compile Check the logs for full command output.\u001b[0m\n"
          ],
          "name": "stdout"
        }
      ]
    },
    {
      "cell_type": "code",
      "metadata": {
        "id": "L_zlmJ80xPWZ"
      },
      "source": [
        "from contextlib import contextmanager\n",
        "\n",
        "from captum.attr import configure_interpretable_embedding_layer, remove_interpretable_embedding_layer\n",
        "from captum.attr import IntegratedGradients, DeepLift\n",
        "import numpy as np\n",
        "import torch\n",
        "from transformers import BertTokenizer, BertForSequenceClassification"
      ],
      "execution_count": null,
      "outputs": []
    },
    {
      "cell_type": "code",
      "metadata": {
        "id": "_urn01Liydo3"
      },
      "source": [
        "  # use publically available pretrained sequence classification model\n",
        "PRETRAINED = \"textattack/bert-base-uncased-imdb\"\n",
        "\n",
        "DEVICE = torch.device(\"cuda:0\" if torch.cuda.is_available() else \"cpu\")\n",
        "\n",
        "# obviously positive text to classify and explain predictions on\n",
        "TEXT = \"I went to see this movie last night. I've got to say... it's great! This is an amazing movie!\"\n",
        "\n",
        "TARGET = 1 # positive"
      ],
      "execution_count": null,
      "outputs": []
    },
    {
      "cell_type": "markdown",
      "metadata": {
        "id": "vr1mQ0T01myg"
      },
      "source": [
        "## Helpers"
      ]
    },
    {
      "cell_type": "code",
      "metadata": {
        "id": "fWnVAB5wyqgL"
      },
      "source": [
        "# taken from https://captum.ai/tutorials/Bert_SQUAD_Interpret\n",
        "# modified for sequence classification\n",
        "\n",
        "def construct_input_ref_pair(text, ref_token_id, sep_token_id, cls_token_id):\n",
        "    text_ids = tokenizer.encode(text, add_special_tokens=False)\n",
        "\n",
        "    # construct input token ids\n",
        "    input_ids = [cls_token_id] + text_ids + [sep_token_id]\n",
        "\n",
        "    # construct reference token ids\n",
        "    ref_input_ids = [cls_token_id] + [ref_token_id] * len(text_ids) + [sep_token_id]\n",
        "\n",
        "    return torch.tensor([input_ids], device=DEVICE), torch.tensor([ref_input_ids], device=DEVICE)\n",
        "\n",
        "\n",
        "def construct_input_ref_token_type_pair(input_ids):\n",
        "    token_type_ids = torch.zeros_like(input_ids, device=DEVICE)\n",
        "    ref_token_type_ids = token_type_ids.clone()\n",
        "    return token_type_ids, ref_token_type_ids\n",
        "\n",
        "\n",
        "def construct_input_ref_pos_id_pair(input_ids):\n",
        "    seq_length = input_ids.size(1)\n",
        "    position_ids = torch.arange(seq_length, dtype=torch.long, device=DEVICE)\n",
        "    # we could potentially also use random permutation with `torch.randperm(seq_length, device=device)`\n",
        "    ref_position_ids = torch.zeros(seq_length, dtype=torch.long, device=DEVICE)\n",
        "\n",
        "    position_ids = position_ids.unsqueeze(0).expand_as(input_ids)\n",
        "    ref_position_ids = ref_position_ids.unsqueeze(0).expand_as(input_ids)\n",
        "    return position_ids, ref_position_ids\n",
        "\n",
        "\n",
        "def construct_attention_mask(input_ids):\n",
        "    return torch.ones_like(input_ids)\n",
        "\n",
        "\n",
        "def construct_whole_bert_embeddings(input_ids, ref_input_ids, token_type_ids=None, ref_token_type_ids=None,\n",
        "                                    position_ids=None, ref_position_ids=None):\n",
        "    input_embeddings = interpretable_embedding.indices_to_embeddings(input_ids, token_type_ids=token_type_ids,\n",
        "                                                                     position_ids=position_ids)\n",
        "    ref_input_embeddings = interpretable_embedding.indices_to_embeddings(ref_input_ids, token_type_ids=token_type_ids,\n",
        "                                                                         position_ids=position_ids)\n",
        "\n",
        "    return input_embeddings, ref_input_embeddings\n",
        "\n",
        "\n",
        "def summarize_attributions(attributions):\n",
        "    attributions = attributions.sum(dim=-1).squeeze(0)\n",
        "    attributions = attributions / torch.norm(attributions)\n",
        "    return attributions"
      ],
      "execution_count": null,
      "outputs": []
    },
    {
      "cell_type": "code",
      "metadata": {
        "id": "qZ8vsv8XzJzH"
      },
      "source": [
        "# need to take the first output of the tuple and return a tensor so we're compatible with captum here\n",
        "# deeplift needs the model itself (not just forward func so can't do same as SQUAD demo)\n",
        "class ModelWithUnpackedForward(BertForSequenceClassification):\n",
        "    def __init__(self, *args, **kwargs):\n",
        "        super().__init__(*args, **kwargs)\n",
        "\n",
        "    def forward(self, *args, **kwargs):\n",
        "        out = super().forward(*args, **kwargs)\n",
        "        out = out[0]  # no longer a tuple\n",
        "        return out\n",
        "\n",
        "    def orig_forward(self, *args, **kwargs):\n",
        "        return super().forward(*args, **kwargs)\n"
      ],
      "execution_count": null,
      "outputs": []
    },
    {
      "cell_type": "code",
      "metadata": {
        "id": "clad49r926Nn"
      },
      "source": [
        "# context manager to ensure removal of embedding layer (useful if errors)\n",
        "@contextmanager\n",
        "def managed_interpretable_embedding_layer(model: torch.nn.Module, embedding_layer_name: str = \"embedding\"):\n",
        "    interpretable_embedding = configure_interpretable_embedding_layer(model=model,\n",
        "                                                                      embedding_layer_name=embedding_layer_name)\n",
        "    try:\n",
        "        yield interpretable_embedding\n",
        "    finally:\n",
        "        remove_interpretable_embedding_layer(model=model, interpretable_emb=interpretable_embedding)"
      ],
      "execution_count": null,
      "outputs": []
    },
    {
      "cell_type": "markdown",
      "metadata": {
        "id": "ExNx9muu1rzj"
      },
      "source": [
        "## Load Model and Inputs"
      ]
    },
    {
      "cell_type": "code",
      "metadata": {
        "id": "ra9v-HTCzOsl",
        "colab": {
          "base_uri": "https://localhost:8080/",
          "height": 466,
          "referenced_widgets": [
            "4aa8b52c20b14472901e0bfc1adcee69",
            "c4f4548b289d47519536ee3c9b8ceac9",
            "2a056ec4e677483b986748df3719dc60",
            "3efb039982a04eb2b42ae454df7e8328",
            "7feb1d8131884fbdbf8661a1a2fd87c7",
            "aedde6207d2a47ee8934d39385fb22f3",
            "edfb0575fe444490ba35c050fd2c0e16",
            "4551fe71876c405caa5c0a1d44e28cf6",
            "0384412bcf5349b0bf917cb779de91a0",
            "635d1aeb81f6401cbdb573b9c8f3bbc6",
            "ba6ec000ec284d6789cda12ee5e23a64",
            "0feda1f2f4d143af8dbfdb99a5c17ac7",
            "5aa4ebee1f5348c2ad430f0913bf9d04",
            "0e0e447c8b114876b96823299075b575",
            "877d5386b47141d883897f835bf4073c",
            "53db8ff466304f32b29b544b480062f1",
            "9de24b9289fe4feb8ca591099e0ab69d",
            "6f05290d31ce47ba9fc8c8ac14502f19",
            "fca18f3669074c0fb2203f59b44ebb20",
            "d70fee3cacab47a281b55e1292c1cca7",
            "9747c613ca494e8f960d73e3d0cac2c7",
            "051d8bb437104d239faae9f3e52a71ae",
            "a930a784211a4519b544c4266d3a9da6",
            "3fb1cceee6544eed85596cd5acb2397c",
            "f6c99f7655794259b5dea5c71c69302e",
            "de058a70aa304ad98ac080320b32c985",
            "014b977cc2b24507840c82711f922d88",
            "89371b22449240dfa679d8f3c5b75634",
            "755808d1156b4fbf89cb5eae4172ab2e",
            "9a4ca712e7d548378c6ccdd6be8c44d9",
            "6df95c8704b04bb9bdd469f7a10e88de",
            "2279f0ec42d049de81debf7f837497fe",
            "a44f37e0bf9b471aa9cf370f1f79d38a",
            "e62e340dfbfb42d5b0701ae2c8bb1dda",
            "07d53574d73f4be78ecf3f0d2d0c9519",
            "931599b65d0b4161a321d743127a0fe6",
            "2d2623a5472a407cb97b61d25e57f221",
            "027667c0bc494aafaa379c47d7893b8a",
            "fd56f22577df46fcb9e43f01bf4ce5c0",
            "3c9ff3d44af34a6e877eb2772adb76d2"
          ]
        },
        "outputId": "06dc2e06-40b6-499b-96b2-eb369a3d84e2"
      },
      "source": [
        "# load model (wrapped for compatibility with captum)\n",
        "model_wrapper = ModelWithUnpackedForward.from_pretrained(PRETRAINED)\n",
        "\n",
        "# load tokenizer\n",
        "tokenizer = BertTokenizer.from_pretrained(PRETRAINED)\n",
        "\n",
        "\n",
        "# construct inputs\n",
        "input_ids, ref_input_ids = construct_input_ref_pair(TEXT,\n",
        "                                                    ref_token_id=tokenizer.pad_token_id,\n",
        "                                                    sep_token_id=tokenizer.sep_token_id,\n",
        "                                                    cls_token_id=tokenizer.cls_token_id)\n",
        "token_type_ids, ref_token_type_ids = construct_input_ref_token_type_pair(input_ids)\n",
        "position_ids, ref_position_ids = construct_input_ref_pos_id_pair(input_ids)\n",
        "attention_mask = construct_attention_mask(input_ids)\n",
        "\n",
        "# get embeddings\n",
        "input_embeddings = model_wrapper.base_model.embeddings(input_ids, token_type_ids=token_type_ids,\n",
        "                                                       position_ids=position_ids)\n",
        "ref_input_embeddings = model_wrapper.base_model.embeddings(ref_input_ids,\n",
        "                                                           token_type_ids=ref_token_type_ids,\n",
        "                                                           position_ids=ref_position_ids)\n",
        "\n",
        "\n",
        "# for display\n",
        "indices = input_ids[0].detach().tolist()\n",
        "all_tokens = tokenizer.convert_ids_to_tokens(indices)"
      ],
      "execution_count": null,
      "outputs": [
        {
          "output_type": "display_data",
          "data": {
            "application/vnd.jupyter.widget-view+json": {
              "model_id": "4aa8b52c20b14472901e0bfc1adcee69",
              "version_minor": 0,
              "version_major": 2
            },
            "text/plain": [
              "HBox(children=(FloatProgress(value=0.0, description='Downloading', max=511.0, style=ProgressStyle(description_…"
            ]
          },
          "metadata": {
            "tags": []
          }
        },
        {
          "output_type": "stream",
          "text": [
            "\n"
          ],
          "name": "stdout"
        },
        {
          "output_type": "display_data",
          "data": {
            "application/vnd.jupyter.widget-view+json": {
              "model_id": "0384412bcf5349b0bf917cb779de91a0",
              "version_minor": 0,
              "version_major": 2
            },
            "text/plain": [
              "HBox(children=(FloatProgress(value=0.0, description='Downloading', max=437985387.0, style=ProgressStyle(descri…"
            ]
          },
          "metadata": {
            "tags": []
          }
        },
        {
          "output_type": "stream",
          "text": [
            "\n"
          ],
          "name": "stdout"
        },
        {
          "output_type": "stream",
          "text": [
            "Using explicity instantiated GELU\n",
            "Using explicity instantiated GELU\n",
            "Using explicity instantiated GELU\n",
            "Using explicity instantiated GELU\n",
            "Using explicity instantiated GELU\n",
            "Using explicity instantiated GELU\n",
            "Using explicity instantiated GELU\n",
            "Using explicity instantiated GELU\n",
            "Using explicity instantiated GELU\n",
            "Using explicity instantiated GELU\n",
            "Using explicity instantiated GELU\n",
            "Using explicity instantiated GELU\n"
          ],
          "name": "stderr"
        },
        {
          "output_type": "display_data",
          "data": {
            "application/vnd.jupyter.widget-view+json": {
              "model_id": "9de24b9289fe4feb8ca591099e0ab69d",
              "version_minor": 0,
              "version_major": 2
            },
            "text/plain": [
              "HBox(children=(FloatProgress(value=0.0, description='Downloading', max=231508.0, style=ProgressStyle(descripti…"
            ]
          },
          "metadata": {
            "tags": []
          }
        },
        {
          "output_type": "stream",
          "text": [
            "\n"
          ],
          "name": "stdout"
        },
        {
          "output_type": "display_data",
          "data": {
            "application/vnd.jupyter.widget-view+json": {
              "model_id": "f6c99f7655794259b5dea5c71c69302e",
              "version_minor": 0,
              "version_major": 2
            },
            "text/plain": [
              "HBox(children=(FloatProgress(value=0.0, description='Downloading', max=112.0, style=ProgressStyle(description_…"
            ]
          },
          "metadata": {
            "tags": []
          }
        },
        {
          "output_type": "stream",
          "text": [
            "\n"
          ],
          "name": "stdout"
        },
        {
          "output_type": "display_data",
          "data": {
            "application/vnd.jupyter.widget-view+json": {
              "model_id": "a44f37e0bf9b471aa9cf370f1f79d38a",
              "version_minor": 0,
              "version_major": 2
            },
            "text/plain": [
              "HBox(children=(FloatProgress(value=0.0, description='Downloading', max=48.0, style=ProgressStyle(description_w…"
            ]
          },
          "metadata": {
            "tags": []
          }
        },
        {
          "output_type": "stream",
          "text": [
            "\n"
          ],
          "name": "stdout"
        }
      ]
    },
    {
      "cell_type": "markdown",
      "metadata": {
        "id": "LyEf-7eP0ClP"
      },
      "source": [
        "## Sanity Checks\n",
        "\n",
        "- check model output for text\n",
        "- check model output for reference\n",
        "- check attention output for text\n",
        "- Integrated Gradients\n",
        "\n",
        "\n",
        "model output for text should be much more positive than output for ref\n",
        "\n",
        "expect attention and IG to skew towards `[\"great\", \"amazing\"]`"
      ]
    },
    {
      "cell_type": "code",
      "metadata": {
        "id": "sPd-PpUQz57Z",
        "colab": {
          "base_uri": "https://localhost:8080/"
        },
        "outputId": "3095e1bd-8b6b-455b-9f2c-6280f3725d48"
      },
      "source": [
        "results, attentions = model_wrapper.orig_forward(input_ids=input_ids,\n",
        "                                                 attention_mask=attention_mask,\n",
        "                                                 token_type_ids=token_type_ids,\n",
        "                                                 position_ids=position_ids,\n",
        "                                                 output_attentions=True)\n",
        "\n",
        "results = torch.squeeze(results[0])\n",
        "print(\"Model output for text:\", results)"
      ],
      "execution_count": null,
      "outputs": [
        {
          "output_type": "stream",
          "text": [
            "Model output for text: tensor([-1.4382,  2.4062], grad_fn=<SqueezeBackward0>)\n"
          ],
          "name": "stdout"
        }
      ]
    },
    {
      "cell_type": "code",
      "metadata": {
        "id": "4bPp74pr0Ns2",
        "colab": {
          "base_uri": "https://localhost:8080/"
        },
        "outputId": "e44b16e5-251d-49cd-8f2c-1d6e950edf0c"
      },
      "source": [
        "ref_results = model_wrapper.forward(input_ids=ref_input_ids,\n",
        "                                    attention_mask=attention_mask,\n",
        "                                    token_type_ids=ref_token_type_ids,\n",
        "                                    position_ids=ref_position_ids,\n",
        "                                    output_attentions=False)\n",
        "ref_results = torch.squeeze(ref_results)\n",
        "print(\"Model output for ref:\", ref_results)"
      ],
      "execution_count": null,
      "outputs": [
        {
          "output_type": "stream",
          "text": [
            "Model output for ref: tensor([-0.9225,  0.7754], grad_fn=<SqueezeBackward0>)\n"
          ],
          "name": "stdout"
        }
      ]
    },
    {
      "cell_type": "markdown",
      "metadata": {
        "id": "fnYev2YF0pn0"
      },
      "source": [
        "This is more positive than expected but still much lower than the original text scored"
      ]
    },
    {
      "cell_type": "code",
      "metadata": {
        "id": "SangrAVy0Ur2",
        "colab": {
          "base_uri": "https://localhost:8080/"
        },
        "outputId": "1d140f28-6a78-4dbc-9c2c-9324113e818b"
      },
      "source": [
        "def summarize_attention(attention, layers):\n",
        "    assert attention.ndim == 5\n",
        "\n",
        "    if layers is not None:\n",
        "        # filter to layers\n",
        "        attention = attention[layers]\n",
        "\n",
        "    aggd_attention = attention.mean(dim=(0, 1, 2, 3))\n",
        "    return aggd_attention / torch.norm(aggd_attention)\n",
        "\n",
        "\n",
        "attn = summarize_attention(torch.stack(attentions), layers=range(8, 12)).detach().numpy()\n",
        "\n",
        "# ordered words with attention values\n",
        "\n",
        "ordered_attn = [(all_tokens[i], attn[i]) for i in np.argsort(attn)][::-1]\n",
        "for item in ordered_attn:\n",
        "  print(item)"
      ],
      "execution_count": null,
      "outputs": [
        {
          "output_type": "stream",
          "text": [
            "('[SEP]', 0.8570724)\n",
            "(\"'\", 0.45161295)\n",
            "('great', 0.122145966)\n",
            "('.', 0.08723522)\n",
            "('this', 0.06891007)\n",
            "('[CLS]', 0.063985914)\n",
            "('this', 0.05368692)\n",
            "('amazing', 0.05098502)\n",
            "('.', 0.047463313)\n",
            "('!', 0.04521247)\n",
            "('say', 0.04496376)\n",
            "('went', 0.04355322)\n",
            "('last', 0.041117698)\n",
            "('i', 0.037362393)\n",
            "('!', 0.036605727)\n",
            "('it', 0.036225673)\n",
            "('see', 0.03572213)\n",
            "('night', 0.035285752)\n",
            "('s', 0.033716016)\n",
            "('an', 0.031193623)\n",
            "('is', 0.030344974)\n",
            "('movie', 0.03017318)\n",
            "(\"'\", 0.028420145)\n",
            "('movie', 0.02681826)\n",
            "('.', 0.024656259)\n",
            "('.', 0.023904601)\n",
            "('got', 0.02022178)\n",
            "('ve', 0.019560454)\n",
            "('to', 0.01792848)\n",
            "('i', 0.014291423)\n",
            "('to', 0.013351872)\n"
          ],
          "name": "stdout"
        }
      ]
    },
    {
      "cell_type": "markdown",
      "metadata": {
        "id": "TLS51GEn1cwf"
      },
      "source": [
        "\"Amazing\" not particularly high scoring but overall this output seems sane"
      ]
    },
    {
      "cell_type": "markdown",
      "metadata": {
        "id": "TVEkK-cU2NYG"
      },
      "source": [
        "Use Integrated Gradients to generate attributions"
      ]
    },
    {
      "cell_type": "code",
      "metadata": {
        "id": "i9Yj7GiI0xRq",
        "colab": {
          "base_uri": "https://localhost:8080/"
        },
        "outputId": "011d0840-5f55-4e08-e3b5-5ca45e2b4d3d"
      },
      "source": [
        "ig = IntegratedGradients(model_wrapper)\n",
        "\n",
        "with managed_interpretable_embedding_layer(model_wrapper.base_model, 'embeddings') as interpretable_embedding:\n",
        "\n",
        "  ig_attributions, ig_delta = ig.attribute(inputs=input_embeddings,\n",
        "                                          baselines=ref_input_embeddings,\n",
        "                                          additional_forward_args=(\n",
        "                                              attention_mask, token_type_ids, position_ids),\n",
        "                                          return_convergence_delta=True,\n",
        "                                          target=TARGET,\n",
        "                                          n_steps=100\n",
        "                                          )\n",
        "\n",
        "ig_summarized_attributions = summarize_attributions(attributions=ig_attributions).detach().numpy()\n",
        "print(\"ig delta:\", ig_delta)\n",
        "print()\n",
        "\n",
        "ordered_ig = [(all_tokens[i], ig_summarized_attributions[i]) for i in np.argsort(ig_summarized_attributions)][::-1]\n",
        "for item in ordered_ig:\n",
        "  print(item)"
      ],
      "execution_count": null,
      "outputs": [
        {
          "output_type": "stream",
          "text": [
            "/usr/local/lib/python3.6/dist-packages/captum/attr/_models/base.py:189: UserWarning: In order to make embedding layers more interpretable they will be replaced with an interpretable embedding layer which wraps the original embedding layer and takes word embedding vectors as inputs of the forward function. This allows us to generate baselines for word embeddings and compute attributions for each embedding dimension. The original embedding layer must be set back by calling `remove_interpretable_embedding_layer` function after model interpretation is finished. \n",
            "  \"In order to make embedding layers more interpretable they will \"\n"
          ],
          "name": "stderr"
        },
        {
          "output_type": "stream",
          "text": [
            "ig delta: tensor([-0.1639], dtype=torch.float64)\n",
            "\n",
            "('amazing', 0.5622139748741481)\n",
            "('great', 0.30483500764809546)\n",
            "('it', 0.25907722666045846)\n",
            "('last', 0.2585275642131233)\n",
            "('see', 0.2230709011144637)\n",
            "('night', 0.21436294495263788)\n",
            "('this', 0.1574227807921535)\n",
            "('s', 0.14397478843900857)\n",
            "('.', 0.11823730135804614)\n",
            "(\"'\", 0.10387450558353814)\n",
            "('.', 0.10232595039317278)\n",
            "('got', 0.10120857263529436)\n",
            "('i', 0.07585758998569704)\n",
            "('this', 0.06509549674756436)\n",
            "('is', 0.050789809806672984)\n",
            "('!', 0.0186688158604917)\n",
            "('.', 0.014072702069863587)\n",
            "('to', 0.012939010866128678)\n",
            "('[CLS]', 0.0)\n",
            "('ve', -0.007128044029508743)\n",
            "(\"'\", -0.00940010498423295)\n",
            "('an', -0.041612562201641834)\n",
            "('.', -0.05129002584882091)\n",
            "('to', -0.06675189200845233)\n",
            "('!', -0.06876116121220933)\n",
            "('[SEP]', -0.07518066348057816)\n",
            "('say', -0.1313145861355041)\n",
            "('i', -0.16918752714294683)\n",
            "('movie', -0.22656130530256544)\n",
            "('movie', -0.23318458257571606)\n",
            "('went', -0.2934810849502168)\n"
          ],
          "name": "stdout"
        }
      ]
    },
    {
      "cell_type": "markdown",
      "metadata": {
        "id": "RBj7Q_8C3hY9"
      },
      "source": [
        "IG working well!"
      ]
    },
    {
      "cell_type": "markdown",
      "metadata": {
        "id": "V7p0e3LX2Ded"
      },
      "source": [
        "## DeepLift\n",
        "\n"
      ]
    },
    {
      "cell_type": "code",
      "metadata": {
        "id": "h39t-sIv3Xj7",
        "colab": {
          "base_uri": "https://localhost:8080/"
        },
        "outputId": "9ef6d848-00ea-4d42-f3cd-505c08a848c5"
      },
      "source": [
        "dl = DeepLift(model_wrapper)\n",
        "\n",
        "with managed_interpretable_embedding_layer(model_wrapper.base_model, 'embeddings') as interpretable_embedding:\n",
        "\n",
        "  dl_attributions, dl_delta = dl.attribute(inputs=input_embeddings,\n",
        "                                          baselines=ref_input_embeddings,\n",
        "                                          additional_forward_args=(\n",
        "                                              attention_mask, token_type_ids, position_ids),\n",
        "                                          return_convergence_delta=True,\n",
        "                                          target=TARGET)\n",
        "\n",
        "\n",
        "dl_summarized_attributions = summarize_attributions(attributions=dl_attributions).detach().numpy()\n",
        "\n",
        "print(\"dl delta:\", dl_delta)\n",
        "print()\n",
        "# no modification: dl delta: tensor([-1.9306])\n",
        "\n",
        "ordered_dl = [(all_tokens[i], dl_summarized_attributions[i]) for i in np.argsort(dl_summarized_attributions)][::-1]\n",
        "\n",
        "for item in ordered_dl:\n",
        "  print(item)"
      ],
      "execution_count": null,
      "outputs": [
        {
          "output_type": "stream",
          "text": [
            "/usr/local/lib/python3.6/dist-packages/captum/attr/_models/base.py:189: UserWarning: In order to make embedding layers more interpretable they will be replaced with an interpretable embedding layer which wraps the original embedding layer and takes word embedding vectors as inputs of the forward function. This allows us to generate baselines for word embeddings and compute attributions for each embedding dimension. The original embedding layer must be set back by calling `remove_interpretable_embedding_layer` function after model interpretation is finished. \n",
            "  \"In order to make embedding layers more interpretable they will \"\n",
            "/usr/local/lib/python3.6/dist-packages/captum/_utils/gradient.py:58: UserWarning: The .grad attribute of a Tensor that is not a leaf Tensor is being accessed. Its .grad attribute won't be populated during autograd.backward(). If you indeed want the gradient for a non-leaf Tensor, use .retain_grad() on the non-leaf Tensor. If you access the non-leaf Tensor by mistake, make sure you access the leaf Tensor instead. See github.com/pytorch/pytorch/pull/30531 for more informations.\n",
            "  if input.grad is not None:\n",
            "/usr/local/lib/python3.6/dist-packages/captum/attr/_core/deep_lift.py:325: UserWarning: Setting forward, backward hooks and attributes on non-linear\n",
            "               activations. The hooks and attributes will be removed\n",
            "            after the attribution is finished\n",
            "  after the attribution is finished\"\"\"\n",
            "/usr/local/lib/python3.6/dist-packages/captum/_utils/gradient.py:87: UserWarning: The .grad attribute of a Tensor that is not a leaf Tensor is being accessed. Its .grad attribute won't be populated during autograd.backward(). If you indeed want the gradient for a non-leaf Tensor, use .retain_grad() on the non-leaf Tensor. If you access the non-leaf Tensor by mistake, make sure you access the leaf Tensor instead. See github.com/pytorch/pytorch/pull/30531 for more informations.\n",
            "  if input.grad is not None:\n"
          ],
          "name": "stderr"
        },
        {
          "output_type": "stream",
          "text": [
            "dl delta: tensor([-753467.2500])\n",
            "\n",
            "('say', 0.43542343)\n",
            "('.', 0.29138362)\n",
            "('last', 0.2016859)\n",
            "('to', 0.11776617)\n",
            "('amazing', 0.10944588)\n",
            "('.', 0.045121446)\n",
            "('movie', 0.017274547)\n",
            "('.', 0.0061797984)\n",
            "('!', 0.0045581986)\n",
            "('s', 0.0013995223)\n",
            "('[CLS]', 0.0)\n",
            "('.', -0.0022967476)\n",
            "('got', -0.0023316701)\n",
            "('movie', -0.004586594)\n",
            "('ve', -0.016162675)\n",
            "(\"'\", -0.025916887)\n",
            "('to', -0.026769772)\n",
            "('i', -0.03517566)\n",
            "('is', -0.041742746)\n",
            "(\"'\", -0.041766968)\n",
            "('great', -0.052930668)\n",
            "('this', -0.055721063)\n",
            "('see', -0.08397544)\n",
            "('night', -0.11885013)\n",
            "('this', -0.12899446)\n",
            "('an', -0.14705154)\n",
            "('[SEP]', -0.18361235)\n",
            "('went', -0.21900855)\n",
            "('!', -0.22808671)\n",
            "('i', -0.23096457)\n",
            "('it', -0.63070023)\n"
          ],
          "name": "stdout"
        }
      ]
    },
    {
      "cell_type": "markdown",
      "metadata": {
        "id": "FbDqAPTw4G0N"
      },
      "source": [
        "Very high delta!\n",
        "\n",
        "Delta of -1.9306 can be achieved without softmax change (can be verified by installing transformers repo at master branch).\n",
        "\n",
        "We also see some unexpected, strongly negative attributions"
      ]
    },
    {
      "cell_type": "markdown",
      "metadata": {
        "id": "Lf-pjQrCf54J"
      },
      "source": [
        "<hr/>\n",
        "quick check to ensure that the change to captum was correctly installed after all. We should see `nn.GELU` in the `SUPPORTED_NON_LINEAR` dict keys."
      ]
    },
    {
      "cell_type": "code",
      "metadata": {
        "colab": {
          "base_uri": "https://localhost:8080/"
        },
        "id": "3vEJ2CRFdkOt",
        "outputId": "f8355ef6-8543-4895-814c-69bc0ed92fbe"
      },
      "source": [
        "import captum\n",
        "captum.__path__"
      ],
      "execution_count": null,
      "outputs": [
        {
          "output_type": "execute_result",
          "data": {
            "text/plain": [
              "['/usr/local/lib/python3.6/dist-packages/captum']"
            ]
          },
          "metadata": {
            "tags": []
          },
          "execution_count": 13
        }
      ]
    },
    {
      "cell_type": "code",
      "metadata": {
        "colab": {
          "base_uri": "https://localhost:8080/"
        },
        "id": "9ygo3w-jdmlI",
        "outputId": "40369b5d-e669-4579-a624-4358f15786a4"
      },
      "source": [
        "! tail -n 20 /usr/local/lib/python3.6/dist-packages/captum/attr/_core/deep_lift.py"
      ],
      "execution_count": null,
      "outputs": [
        {
          "output_type": "stream",
          "text": [
            "    output, output_ref = outputs.chunk(2)\n",
            "    delta_in = input - input_ref\n",
            "    delta_out = output - output_ref\n",
            "\n",
            "    return torch.cat(2 * [delta_in]), torch.cat(2 * [delta_out])\n",
            "\n",
            "\n",
            "SUPPORTED_NON_LINEAR = {\n",
            "    nn.ReLU: nonlinear,\n",
            "    nn.ELU: nonlinear,\n",
            "    nn.LeakyReLU: nonlinear,\n",
            "    nn.GELU: nonlinear,\n",
            "    nn.Sigmoid: nonlinear,\n",
            "    nn.Tanh: nonlinear,\n",
            "    nn.Softplus: nonlinear,\n",
            "    nn.MaxPool1d: maxpool1d,\n",
            "    nn.MaxPool2d: maxpool2d,\n",
            "    nn.MaxPool3d: maxpool3d,\n",
            "    nn.Softmax: softmax,\n",
            "}\n"
          ],
          "name": "stdout"
        }
      ]
    }
  ]
}